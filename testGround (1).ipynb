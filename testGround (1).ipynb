{
 "cells": [
  {
   "cell_type": "code",
   "execution_count": 1,
   "id": "baa54e9a-5c35-4dcb-9dac-f78b930acb01",
   "metadata": {},
   "outputs": [],
   "source": [
    "#Import the mySokobanSolver.py file to import all functions\n",
    "from mySokobanSolver import *\n",
    "from sokoban import *\n",
    "from search import *\n",
    "\n",
    "warehouse1 = './warehouses/warehouse_0001.txt'"
   ]
  },
  {
   "cell_type": "code",
   "execution_count": 2,
   "id": "fc0207de-ccc9-4d19-be4c-697e1ebb83ca",
   "metadata": {},
   "outputs": [],
   "source": [
    "# Create an instance of the Warehouse class\n",
    "warehouse_instance = Warehouse()"
   ]
  },
  {
   "cell_type": "code",
   "execution_count": 3,
   "id": "42cf01d1-44bf-4d64-90e5-63d2c9fdcc83",
   "metadata": {},
   "outputs": [
    {
     "name": "stdout",
     "output_type": "stream",
     "text": [
      "####  \n",
      "# .#  \n",
      "#  ###\n",
      "#*@  #\n",
      "#  $ #\n",
      "#  ###\n",
      "####  \n"
     ]
    }
   ],
   "source": [
    "# Call the load_warehouse method on the instance\n",
    "warehouse_instance.load_warehouse(warehouse1)\n",
    "\n",
    "\n",
    "warehouse_str = warehouse_instance.__str__()\n",
    "warehouse_str_split = warehouse_str.splitlines()\n",
    "print(warehouse_str)"
   ]
  },
  {
   "cell_type": "code",
   "execution_count": 4,
   "id": "75267006-e74a-4575-a553-203cd72e6fe1",
   "metadata": {},
   "outputs": [],
   "source": [
    "warehouse_str\n",
    "\n",
    "list(find_2D_iterator(warehouse_str_split[0], \"#\"))\n",
    "\n",
    "# Call the extract_locations method using the warehouse string representation split by lines\n",
    "warehouse_instance.extract_locations(warehouse_str.splitlines())"
   ]
  },
  {
   "cell_type": "code",
   "execution_count": 5,
   "id": "0f5214b8-7512-45d3-8b38-8f76e8ae4af2",
   "metadata": {},
   "outputs": [
    {
     "name": "stdout",
     "output_type": "stream",
     "text": [
      "Worker position: (2, 3)\n",
      "Boxes positions: [(3, 4), (1, 3)]\n",
      "Target positions: [(2, 1), (1, 3)]\n",
      "Wall positions: [(0, 0), (1, 0), (2, 0), (3, 0), (0, 1), (3, 1), (0, 2), (3, 2), (4, 2), (5, 2), (0, 3), (5, 3), (0, 4), (5, 4), (0, 5), (3, 5), (4, 5), (5, 5), (0, 6), (1, 6), (2, 6), (3, 6)]\n"
     ]
    }
   ],
   "source": [
    "# Now, you can check the updated attributes\n",
    "print(\"Worker position:\", warehouse_instance.worker)\n",
    "print(\"Boxes positions:\", warehouse_instance.boxes)\n",
    "print(\"Target positions:\", warehouse_instance.targets)\n",
    "print(\"Wall positions:\", warehouse_instance.walls)"
   ]
  },
  {
   "cell_type": "code",
   "execution_count": 6,
   "id": "b5beaacd-bc97-40ff-9aaa-082e0f0b52fa",
   "metadata": {},
   "outputs": [
    {
     "name": "stdout",
     "output_type": "stream",
     "text": [
      "####  \n",
      "#X #  \n",
      "#  ###\n",
      "#   X#\n",
      "#   X#\n",
      "#XX###\n",
      "####  \n"
     ]
    }
   ],
   "source": [
    "print(taboo_cells(warehouse_instance))"
   ]
  },
  {
   "cell_type": "code",
   "execution_count": 7,
   "id": "560f6fc3-dcf9-4d18-9c4f-695a89b8df08",
   "metadata": {},
   "outputs": [
    {
     "name": "stdout",
     "output_type": "stream",
     "text": [
      "Initial Warehouse Configuration:\n",
      "####  \n",
      "# .#  \n",
      "#  ###\n",
      "#*@  #\n",
      "#  $ #\n",
      "#  ###\n",
      "####  \n"
     ]
    }
   ],
   "source": [
    "from mySokobanSolver import *  \n",
    "from sokoban import *         \n",
    "from search import *\n",
    "\n",
    "\n",
    "warehouse1 = './warehouses/warehouse_0001.txt'\n",
    "\n",
    "\n",
    "warehouse_instance = Warehouse()\n",
    "warehouse_instance.load_warehouse(warehouse1)\n",
    "\n",
    "\n",
    "print(\"Initial Warehouse Configuration:\")\n",
    "print(warehouse_instance)"
   ]
  },
  {
   "cell_type": "code",
   "execution_count": 8,
   "id": "bcfd7e68-a76d-4654-9e55-ee9421d7bb7f",
   "metadata": {},
   "outputs": [
    {
     "name": "stdout",
     "output_type": "stream",
     "text": [
      "\n",
      "Test 1 - Move to an empty spot:\n",
      "Action Sequence: ['Right', 'Right', 'Right']\n",
      "Result:\n",
      " Failure\n",
      "\n",
      "Test 2 - up:\n",
      "Action Sequence: ['Up']\n",
      "Result:\n",
      " ####  \n",
      "# .#  \n",
      "# @###\n",
      "#*   #\n",
      "#  $ #\n",
      "#  ###\n",
      "####  \n",
      "\n",
      "Test 3 - Push box into wall:\n",
      "Action Sequence: ['Left']\n",
      "Result:\n",
      " Failure\n",
      "\n",
      "Test 2 - Move and push a box:\n",
      "Action Sequence: ['Right', 'Right', 'Down', 'Left']\n",
      "Result:\n",
      " ####  \n",
      "# .#  \n",
      "#  ###\n",
      "#*   #\n",
      "# $@ #\n",
      "#  ###\n",
      "####  \n"
     ]
    }
   ],
   "source": [
    "# Test 1: Move worker to an empty spot\n",
    "action_seq_1 = ['Right', 'Right','Right']\n",
    "result_1 = check_action_seq(warehouse_instance.copy(), action_seq_1)\n",
    "print(\"\\nTest 1 - Move to an empty spot:\")\n",
    "print(\"Action Sequence:\", action_seq_1)\n",
    "print(\"Result:\\n\", result_1)\n",
    "\n",
    "action_seq_3 = ['Up']\n",
    "result_3 = check_action_seq(warehouse_instance.copy(), action_seq_3)\n",
    "print(\"\\nTest 2 - up:\")\n",
    "print(\"Action Sequence:\", action_seq_3)\n",
    "print(\"Result:\\n\", result_3)\n",
    "\n",
    "# check box into wall\n",
    "action_seq_5 = ['Left']\n",
    "result_5 = check_action_seq(warehouse_instance.copy(), action_seq_5)\n",
    "print(\"\\nTest 3 - Push box into wall:\")\n",
    "print(\"Action Sequence:\", action_seq_5)\n",
    "print(\"Result:\\n\", result_5)\n",
    "\n",
    "\n",
    "action_seq_2 = ['Right','Right' ,'Down','Left']\n",
    "result_2 = check_action_seq(warehouse_instance.copy(), action_seq_2)\n",
    "print(\"\\nTest 2 - Move and push a box:\")\n",
    "print(\"Action Sequence:\", action_seq_2)\n",
    "print(\"Result:\\n\", result_2)"
   ]
  },
  {
   "cell_type": "code",
   "execution_count": null,
   "id": "d2be990c-5f7c-448f-86b6-03b102b05444",
   "metadata": {},
   "outputs": [],
   "source": []
  },
  {
   "cell_type": "code",
   "execution_count": null,
   "id": "24c36a99-56f2-4611-a70e-1a60057e5304",
   "metadata": {},
   "outputs": [],
   "source": []
  },
  {
   "cell_type": "code",
   "execution_count": 9,
   "id": "d874bcf0-db9e-4a48-8a80-c80159101250",
   "metadata": {},
   "outputs": [
    {
     "name": "stdout",
     "output_type": "stream",
     "text": [
      "\n",
      "Test 5 - Push box into wall:\n",
      "Action Sequence: ['Right', 'Right', 'Down', 'Left', 'Left', 'Left']\n",
      "Result: Failure\n"
     ]
    }
   ],
   "source": [
    "# check box into wall\n",
    "action_seq_5 = ['Right','Right' ,'Down','Left','Left','Left']\n",
    "result_5 = check_action_seq(warehouse_instance.copy(), action_seq_5)\n",
    "print(\"\\nTest 5 - Push box into wall:\")\n",
    "print(\"Action Sequence:\", action_seq_5)\n",
    "print(\"Result:\", result_5)"
   ]
  },
  {
   "cell_type": "code",
   "execution_count": 10,
   "id": "05d6cec2-e682-4a7b-b357-b1316f50d351",
   "metadata": {},
   "outputs": [
    {
     "name": "stdout",
     "output_type": "stream",
     "text": [
      "\n",
      "Test 6 - Multiple legal moves:\n",
      "Action Sequence: ['Right', 'Left', 'Up', 'Up']\n",
      "Result:\n",
      " ####  \n",
      "# !#  \n",
      "#  ###\n",
      "#*   #\n",
      "#  $ #\n",
      "#  ###\n",
      "####  \n"
     ]
    }
   ],
   "source": [
    "# Test 6: Multiple legal moves leading to the target\n",
    "action_seq_6 = ['Right', 'Left', 'Up','Up']\n",
    "result_6 = check_action_seq(warehouse_instance.copy(), action_seq_6)\n",
    "print(\"\\nTest 6 - Multiple legal moves:\")\n",
    "print(\"Action Sequence:\", action_seq_6)\n",
    "print(\"Result:\\n\", result_6)"
   ]
  },
  {
   "cell_type": "code",
   "execution_count": 11,
   "id": "470731d3-99d3-4229-b4a3-ecab1409328a",
   "metadata": {},
   "outputs": [
    {
     "name": "stdout",
     "output_type": "stream",
     "text": [
      "####  \n",
      "# .#  \n",
      "#  ###\n",
      "#*@  #\n",
      "#  $ #\n",
      "#  ###\n",
      "####  \n"
     ]
    }
   ],
   "source": [
    "print(warehouse_instance)"
   ]
  },
  {
   "cell_type": "code",
   "execution_count": 12,
   "id": "9ce7bb68-d40c-4bf4-ae2c-d52861d97f8c",
   "metadata": {},
   "outputs": [
    {
     "name": "stdout",
     "output_type": "stream",
     "text": [
      "\n",
      "Test 6 - Multiple legal moves:\n",
      "Action Sequence: ['Down', 'Left', 'Up', 'Right', 'Right', 'Right', 'Down', 'Left', 'Up', 'Left', 'Left', 'Down', 'Down', 'Right', 'Up', 'Left', 'Up', 'Right', 'Up', 'Up', 'Left', 'Down', 'Right', 'Down', 'Down', 'Right', 'Right', 'Up', 'Left', 'Down', 'Left', 'Up', 'Up']\n",
      "Result:\n",
      " ####  \n",
      "# *#  \n",
      "# @###\n",
      "#*   #\n",
      "#    #\n",
      "#  ###\n",
      "####  \n"
     ]
    }
   ],
   "source": [
    "# Test7 : solvability\n",
    "action_seq_7 =['Down','Left','Up','Right','Right','Right','Down','Left','Up' ,'Left','Left','Down','Down','Right','Up','Left','Up','Right','Up','Up','Left','Down','Right','Down','Down','Right','Right','Up','Left','Down','Left','Up','Up']\n",
    "result_7 = check_action_seq(warehouse_instance.copy(), action_seq_7)\n",
    "print(\"\\nTest 6 - Multiple legal moves:\")\n",
    "print(\"Action Sequence:\", action_seq_7)\n",
    "print(\"Result:\\n\", result_7)"
   ]
  },
  {
   "cell_type": "code",
   "execution_count": 1,
   "id": "80a5b41c-1f99-4f1f-b684-b46f987ab73e",
   "metadata": {},
   "outputs": [
    {
     "name": "stdout",
     "output_type": "stream",
     "text": [
      "Initial Warehouse Configuration:\n",
      " #######\n",
      " #     #\n",
      " # .$. #\n",
      "## $@$ #\n",
      "#  .$. #\n",
      "#      #\n",
      "########\n",
      "\n",
      "Solution found:\n",
      "['Left', 'Up', 'Right', 'Left', 'Left', 'Down', 'Right', 'Down', 'Right', 'Down', 'Right', 'Right', 'Up', 'Up', 'Left', 'Left', 'Down', 'Left', 'Up', 'Down', 'Down', 'Left', 'Left', 'Up', 'Right']\n",
      "Time taken: 22.319 seconds\n"
     ]
    }
   ],
   "source": [
    "from mySokobanSolver import *  \n",
    "from sokoban import *         \n",
    "from search import *\n",
    "import time\n",
    "warehouse1 = './warehouses/warehouse_0005.txt'\n",
    "\n",
    "warehouse_instance = Warehouse()\n",
    "\n",
    "warehouse_instance.load_warehouse(warehouse1)\n",
    "\n",
    "print(\"Initial Warehouse Configuration:\")\n",
    "print(warehouse_instance)\n",
    "\n",
    "\n",
    "s=time.time()\n",
    "solution = solve_sokoban_elem(warehouse_instance)\n",
    "\n",
    "if solution == 'Impossible':\n",
    "    print(\"\\nSolution: Impossible\")\n",
    "else:\n",
    "    print(\"\\nSolution found:\")\n",
    "    print(solution)\n",
    "   \n",
    "print(f'Time taken: {time.time()-s :.3f} seconds')  "
   ]
  },
  {
   "cell_type": "code",
   "execution_count": null,
   "id": "0889f3df-59d4-4fcf-b9a2-d92f3244d8b7",
   "metadata": {},
   "outputs": [],
   "source": []
  }
 ],
 "metadata": {
  "kernelspec": {
   "display_name": "Python 3 (ipykernel)",
   "language": "python",
   "name": "python3"
  },
  "language_info": {
   "codemirror_mode": {
    "name": "ipython",
    "version": 3
   },
   "file_extension": ".py",
   "mimetype": "text/x-python",
   "name": "python",
   "nbconvert_exporter": "python",
   "pygments_lexer": "ipython3",
   "version": "3.11.9"
  }
 },
 "nbformat": 4,
 "nbformat_minor": 5
}
